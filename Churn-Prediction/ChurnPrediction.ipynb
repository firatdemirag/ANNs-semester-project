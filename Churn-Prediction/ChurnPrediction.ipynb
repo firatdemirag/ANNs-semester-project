{
 "cells": [
  {
   "cell_type": "markdown",
   "id": "9ca65f2b",
   "metadata": {},
   "source": [
    "# Churn Prediction\n",
    "\n",
    "The dataset is the details of the customers who left or not in a company.\n",
    "\n",
    "The aim is to predict whether a customer will leave or not a company."
   ]
  },
  {
   "cell_type": "markdown",
   "id": "164e14d4",
   "metadata": {},
   "source": [
    " "
   ]
  },
  {
   "cell_type": "markdown",
   "id": "0e917a79",
   "metadata": {},
   "source": [
    "### Data Cleaning and Processing"
   ]
  },
  {
   "cell_type": "code",
   "execution_count": 2122,
   "id": "a3c24748",
   "metadata": {},
   "outputs": [],
   "source": [
    "import numpy as np\n",
    "import pandas as pd"
   ]
  },
  {
   "cell_type": "code",
   "execution_count": 2123,
   "id": "d945e3cd",
   "metadata": {},
   "outputs": [
    {
     "data": {
      "text/html": [
       "<div>\n",
       "<style scoped>\n",
       "    .dataframe tbody tr th:only-of-type {\n",
       "        vertical-align: middle;\n",
       "    }\n",
       "\n",
       "    .dataframe tbody tr th {\n",
       "        vertical-align: top;\n",
       "    }\n",
       "\n",
       "    .dataframe thead th {\n",
       "        text-align: right;\n",
       "    }\n",
       "</style>\n",
       "<table border=\"1\" class=\"dataframe\">\n",
       "  <thead>\n",
       "    <tr style=\"text-align: right;\">\n",
       "      <th></th>\n",
       "      <th>RowNumber</th>\n",
       "      <th>CustomerId</th>\n",
       "      <th>Surname</th>\n",
       "      <th>CreditScore</th>\n",
       "      <th>Geography</th>\n",
       "      <th>Gender</th>\n",
       "      <th>Age</th>\n",
       "      <th>Tenure</th>\n",
       "      <th>Balance</th>\n",
       "      <th>NumOfProducts</th>\n",
       "      <th>HasCrCard</th>\n",
       "      <th>IsActiveMember</th>\n",
       "      <th>EstimatedSalary</th>\n",
       "      <th>Exited</th>\n",
       "    </tr>\n",
       "  </thead>\n",
       "  <tbody>\n",
       "    <tr>\n",
       "      <th>0</th>\n",
       "      <td>1</td>\n",
       "      <td>15634602</td>\n",
       "      <td>Hargrave</td>\n",
       "      <td>619</td>\n",
       "      <td>France</td>\n",
       "      <td>Female</td>\n",
       "      <td>42</td>\n",
       "      <td>2</td>\n",
       "      <td>0.00</td>\n",
       "      <td>1</td>\n",
       "      <td>1</td>\n",
       "      <td>1</td>\n",
       "      <td>101348.88</td>\n",
       "      <td>1</td>\n",
       "    </tr>\n",
       "    <tr>\n",
       "      <th>1</th>\n",
       "      <td>2</td>\n",
       "      <td>15647311</td>\n",
       "      <td>Hill</td>\n",
       "      <td>608</td>\n",
       "      <td>Spain</td>\n",
       "      <td>Female</td>\n",
       "      <td>41</td>\n",
       "      <td>1</td>\n",
       "      <td>83807.86</td>\n",
       "      <td>1</td>\n",
       "      <td>0</td>\n",
       "      <td>1</td>\n",
       "      <td>112542.58</td>\n",
       "      <td>0</td>\n",
       "    </tr>\n",
       "    <tr>\n",
       "      <th>2</th>\n",
       "      <td>3</td>\n",
       "      <td>15619304</td>\n",
       "      <td>Onio</td>\n",
       "      <td>502</td>\n",
       "      <td>France</td>\n",
       "      <td>Female</td>\n",
       "      <td>42</td>\n",
       "      <td>8</td>\n",
       "      <td>159660.80</td>\n",
       "      <td>3</td>\n",
       "      <td>1</td>\n",
       "      <td>0</td>\n",
       "      <td>113931.57</td>\n",
       "      <td>1</td>\n",
       "    </tr>\n",
       "    <tr>\n",
       "      <th>3</th>\n",
       "      <td>4</td>\n",
       "      <td>15701354</td>\n",
       "      <td>Boni</td>\n",
       "      <td>699</td>\n",
       "      <td>France</td>\n",
       "      <td>Female</td>\n",
       "      <td>39</td>\n",
       "      <td>1</td>\n",
       "      <td>0.00</td>\n",
       "      <td>2</td>\n",
       "      <td>0</td>\n",
       "      <td>0</td>\n",
       "      <td>93826.63</td>\n",
       "      <td>0</td>\n",
       "    </tr>\n",
       "    <tr>\n",
       "      <th>4</th>\n",
       "      <td>5</td>\n",
       "      <td>15737888</td>\n",
       "      <td>Mitchell</td>\n",
       "      <td>850</td>\n",
       "      <td>Spain</td>\n",
       "      <td>Female</td>\n",
       "      <td>43</td>\n",
       "      <td>2</td>\n",
       "      <td>125510.82</td>\n",
       "      <td>1</td>\n",
       "      <td>1</td>\n",
       "      <td>1</td>\n",
       "      <td>79084.10</td>\n",
       "      <td>0</td>\n",
       "    </tr>\n",
       "    <tr>\n",
       "      <th>...</th>\n",
       "      <td>...</td>\n",
       "      <td>...</td>\n",
       "      <td>...</td>\n",
       "      <td>...</td>\n",
       "      <td>...</td>\n",
       "      <td>...</td>\n",
       "      <td>...</td>\n",
       "      <td>...</td>\n",
       "      <td>...</td>\n",
       "      <td>...</td>\n",
       "      <td>...</td>\n",
       "      <td>...</td>\n",
       "      <td>...</td>\n",
       "      <td>...</td>\n",
       "    </tr>\n",
       "    <tr>\n",
       "      <th>9995</th>\n",
       "      <td>9996</td>\n",
       "      <td>15606229</td>\n",
       "      <td>Obijiaku</td>\n",
       "      <td>771</td>\n",
       "      <td>France</td>\n",
       "      <td>Male</td>\n",
       "      <td>39</td>\n",
       "      <td>5</td>\n",
       "      <td>0.00</td>\n",
       "      <td>2</td>\n",
       "      <td>1</td>\n",
       "      <td>0</td>\n",
       "      <td>96270.64</td>\n",
       "      <td>0</td>\n",
       "    </tr>\n",
       "    <tr>\n",
       "      <th>9996</th>\n",
       "      <td>9997</td>\n",
       "      <td>15569892</td>\n",
       "      <td>Johnstone</td>\n",
       "      <td>516</td>\n",
       "      <td>France</td>\n",
       "      <td>Male</td>\n",
       "      <td>35</td>\n",
       "      <td>10</td>\n",
       "      <td>57369.61</td>\n",
       "      <td>1</td>\n",
       "      <td>1</td>\n",
       "      <td>1</td>\n",
       "      <td>101699.77</td>\n",
       "      <td>0</td>\n",
       "    </tr>\n",
       "    <tr>\n",
       "      <th>9997</th>\n",
       "      <td>9998</td>\n",
       "      <td>15584532</td>\n",
       "      <td>Liu</td>\n",
       "      <td>709</td>\n",
       "      <td>France</td>\n",
       "      <td>Female</td>\n",
       "      <td>36</td>\n",
       "      <td>7</td>\n",
       "      <td>0.00</td>\n",
       "      <td>1</td>\n",
       "      <td>0</td>\n",
       "      <td>1</td>\n",
       "      <td>42085.58</td>\n",
       "      <td>1</td>\n",
       "    </tr>\n",
       "    <tr>\n",
       "      <th>9998</th>\n",
       "      <td>9999</td>\n",
       "      <td>15682355</td>\n",
       "      <td>Sabbatini</td>\n",
       "      <td>772</td>\n",
       "      <td>Germany</td>\n",
       "      <td>Male</td>\n",
       "      <td>42</td>\n",
       "      <td>3</td>\n",
       "      <td>75075.31</td>\n",
       "      <td>2</td>\n",
       "      <td>1</td>\n",
       "      <td>0</td>\n",
       "      <td>92888.52</td>\n",
       "      <td>1</td>\n",
       "    </tr>\n",
       "    <tr>\n",
       "      <th>9999</th>\n",
       "      <td>10000</td>\n",
       "      <td>15628319</td>\n",
       "      <td>Walker</td>\n",
       "      <td>792</td>\n",
       "      <td>France</td>\n",
       "      <td>Female</td>\n",
       "      <td>28</td>\n",
       "      <td>4</td>\n",
       "      <td>130142.79</td>\n",
       "      <td>1</td>\n",
       "      <td>1</td>\n",
       "      <td>0</td>\n",
       "      <td>38190.78</td>\n",
       "      <td>0</td>\n",
       "    </tr>\n",
       "  </tbody>\n",
       "</table>\n",
       "<p>10000 rows × 14 columns</p>\n",
       "</div>"
      ],
      "text/plain": [
       "      RowNumber  CustomerId    Surname  CreditScore Geography  Gender  Age  \\\n",
       "0             1    15634602   Hargrave          619    France  Female   42   \n",
       "1             2    15647311       Hill          608     Spain  Female   41   \n",
       "2             3    15619304       Onio          502    France  Female   42   \n",
       "3             4    15701354       Boni          699    France  Female   39   \n",
       "4             5    15737888   Mitchell          850     Spain  Female   43   \n",
       "...         ...         ...        ...          ...       ...     ...  ...   \n",
       "9995       9996    15606229   Obijiaku          771    France    Male   39   \n",
       "9996       9997    15569892  Johnstone          516    France    Male   35   \n",
       "9997       9998    15584532        Liu          709    France  Female   36   \n",
       "9998       9999    15682355  Sabbatini          772   Germany    Male   42   \n",
       "9999      10000    15628319     Walker          792    France  Female   28   \n",
       "\n",
       "      Tenure    Balance  NumOfProducts  HasCrCard  IsActiveMember  \\\n",
       "0          2       0.00              1          1               1   \n",
       "1          1   83807.86              1          0               1   \n",
       "2          8  159660.80              3          1               0   \n",
       "3          1       0.00              2          0               0   \n",
       "4          2  125510.82              1          1               1   \n",
       "...      ...        ...            ...        ...             ...   \n",
       "9995       5       0.00              2          1               0   \n",
       "9996      10   57369.61              1          1               1   \n",
       "9997       7       0.00              1          0               1   \n",
       "9998       3   75075.31              2          1               0   \n",
       "9999       4  130142.79              1          1               0   \n",
       "\n",
       "      EstimatedSalary  Exited  \n",
       "0           101348.88       1  \n",
       "1           112542.58       0  \n",
       "2           113931.57       1  \n",
       "3            93826.63       0  \n",
       "4            79084.10       0  \n",
       "...               ...     ...  \n",
       "9995         96270.64       0  \n",
       "9996        101699.77       0  \n",
       "9997         42085.58       1  \n",
       "9998         92888.52       1  \n",
       "9999         38190.78       0  \n",
       "\n",
       "[10000 rows x 14 columns]"
      ]
     },
     "execution_count": 2123,
     "metadata": {},
     "output_type": "execute_result"
    }
   ],
   "source": [
    "df = pd.read_csv('ChurnModelling.csv')\n",
    "df"
   ]
  },
  {
   "cell_type": "code",
   "execution_count": 2124,
   "id": "4b24a8bf",
   "metadata": {},
   "outputs": [
    {
     "name": "stdout",
     "output_type": "stream",
     "text": [
      "<class 'pandas.core.frame.DataFrame'>\n",
      "RangeIndex: 10000 entries, 0 to 9999\n",
      "Data columns (total 14 columns):\n",
      " #   Column           Non-Null Count  Dtype  \n",
      "---  ------           --------------  -----  \n",
      " 0   RowNumber        10000 non-null  int64  \n",
      " 1   CustomerId       10000 non-null  int64  \n",
      " 2   Surname          10000 non-null  object \n",
      " 3   CreditScore      10000 non-null  int64  \n",
      " 4   Geography        10000 non-null  object \n",
      " 5   Gender           10000 non-null  object \n",
      " 6   Age              10000 non-null  int64  \n",
      " 7   Tenure           10000 non-null  int64  \n",
      " 8   Balance          10000 non-null  float64\n",
      " 9   NumOfProducts    10000 non-null  int64  \n",
      " 10  HasCrCard        10000 non-null  int64  \n",
      " 11  IsActiveMember   10000 non-null  int64  \n",
      " 12  EstimatedSalary  10000 non-null  float64\n",
      " 13  Exited           10000 non-null  int64  \n",
      "dtypes: float64(2), int64(9), object(3)\n",
      "memory usage: 1.1+ MB\n"
     ]
    }
   ],
   "source": [
    "df.info()"
   ]
  },
  {
   "cell_type": "code",
   "execution_count": 2125,
   "id": "9d850aa7",
   "metadata": {},
   "outputs": [],
   "source": [
    "df.drop(['RowNumber', 'CustomerId', 'Surname'], axis=1, inplace=True) "
   ]
  },
  {
   "cell_type": "code",
   "execution_count": 2126,
   "id": "b9368b9f",
   "metadata": {},
   "outputs": [],
   "source": [
    "df1 = pd.get_dummies(data=df, columns=['Geography', 'Gender'])"
   ]
  },
  {
   "cell_type": "code",
   "execution_count": 2127,
   "id": "0176f061",
   "metadata": {},
   "outputs": [],
   "source": [
    "X = df1.drop('Exited', axis=1)\n",
    "y_label = df1['Exited']\n",
    "y = y_label.values"
   ]
  },
  {
   "cell_type": "markdown",
   "id": "1d047be8",
   "metadata": {},
   "source": [
    "### Feature Scaling"
   ]
  },
  {
   "cell_type": "code",
   "execution_count": 2128,
   "id": "db3abcdf",
   "metadata": {},
   "outputs": [],
   "source": [
    "from sklearn.preprocessing import MinMaxScaler\n",
    "minmax_scaler = MinMaxScaler()\n",
    "\n",
    "X_scale = minmax_scaler.fit_transform(X)"
   ]
  },
  {
   "cell_type": "markdown",
   "id": "6d2b2bda",
   "metadata": {},
   "source": [
    "### Splitting Dataset into Train, Validation and Test sets"
   ]
  },
  {
   "cell_type": "code",
   "execution_count": 2129,
   "id": "9436352a",
   "metadata": {},
   "outputs": [],
   "source": [
    "from sklearn.model_selection import train_test_split\n",
    "\n",
    "X_train, X_val_and_test, y_train, y_val_and_test = train_test_split(X_scale, y, test_size=0.3)\n",
    "X_val, X_test, y_val, y_test = train_test_split(X_val_and_test, y_val_and_test, test_size=0.5)"
   ]
  },
  {
   "cell_type": "markdown",
   "id": "25e0d2c5",
   "metadata": {},
   "source": [
    "### Building and Configuration an ANN model "
   ]
  },
  {
   "cell_type": "code",
   "execution_count": 2130,
   "id": "723b0c94",
   "metadata": {},
   "outputs": [],
   "source": [
    "import tensorflow as tf\n",
    "from tensorflow import keras\n",
    "from tensorflow.keras import Sequential\n",
    "from tensorflow.keras.layers import Dense\n",
    "\n",
    "model = Sequential([\n",
    "    Dense(26, input_shape=(13,), activation='relu'),\n",
    "    Dense(13, activation='relu'),\n",
    "    Dense(1, activation='sigmoid')\n",
    "])\n",
    "\n",
    "model.compile(optimizer='adam', loss='binary_crossentropy', metrics=['accuracy'])"
   ]
  },
  {
   "cell_type": "markdown",
   "id": "108e1585",
   "metadata": {},
   "source": [
    "### Training the model on the train set"
   ]
  },
  {
   "cell_type": "code",
   "execution_count": 2131,
   "id": "32c0e31b",
   "metadata": {},
   "outputs": [
    {
     "name": "stdout",
     "output_type": "stream",
     "text": [
      "Epoch 1/100\n",
      "250/250 [==============================] - 1s 2ms/step - loss: 0.4966 - accuracy: 0.7923 - val_loss: 0.4858 - val_accuracy: 0.7793\n",
      "Epoch 2/100\n",
      "250/250 [==============================] - 0s 1ms/step - loss: 0.4554 - accuracy: 0.7984 - val_loss: 0.4675 - val_accuracy: 0.7940\n",
      "Epoch 3/100\n",
      "250/250 [==============================] - 0s 1ms/step - loss: 0.4390 - accuracy: 0.8051 - val_loss: 0.4476 - val_accuracy: 0.8020\n",
      "Epoch 4/100\n",
      "250/250 [==============================] - 0s 1ms/step - loss: 0.4255 - accuracy: 0.8116 - val_loss: 0.4328 - val_accuracy: 0.8167\n",
      "Epoch 5/100\n",
      "250/250 [==============================] - 0s 1ms/step - loss: 0.4144 - accuracy: 0.8136 - val_loss: 0.4230 - val_accuracy: 0.8193\n",
      "Epoch 6/100\n",
      "250/250 [==============================] - 0s 1ms/step - loss: 0.4047 - accuracy: 0.8216 - val_loss: 0.4095 - val_accuracy: 0.8213\n",
      "Epoch 7/100\n",
      "250/250 [==============================] - 0s 1ms/step - loss: 0.3940 - accuracy: 0.8269 - val_loss: 0.4049 - val_accuracy: 0.8247\n",
      "Epoch 8/100\n",
      "250/250 [==============================] - 0s 1ms/step - loss: 0.3856 - accuracy: 0.8334 - val_loss: 0.3937 - val_accuracy: 0.8253\n",
      "Epoch 9/100\n",
      "250/250 [==============================] - 0s 1ms/step - loss: 0.3780 - accuracy: 0.8371 - val_loss: 0.3836 - val_accuracy: 0.8293\n",
      "Epoch 10/100\n",
      "250/250 [==============================] - 0s 1ms/step - loss: 0.3710 - accuracy: 0.8420 - val_loss: 0.3782 - val_accuracy: 0.8367\n",
      "Epoch 11/100\n",
      "250/250 [==============================] - 0s 1ms/step - loss: 0.3656 - accuracy: 0.8481 - val_loss: 0.3959 - val_accuracy: 0.8260\n",
      "Epoch 12/100\n",
      "250/250 [==============================] - 0s 1ms/step - loss: 0.3618 - accuracy: 0.8464 - val_loss: 0.3726 - val_accuracy: 0.8380\n",
      "Epoch 13/100\n",
      "250/250 [==============================] - 0s 1ms/step - loss: 0.3596 - accuracy: 0.8504 - val_loss: 0.3678 - val_accuracy: 0.8427\n",
      "Epoch 14/100\n",
      "250/250 [==============================] - 0s 1ms/step - loss: 0.3562 - accuracy: 0.8511 - val_loss: 0.3655 - val_accuracy: 0.8467\n",
      "Epoch 15/100\n",
      "250/250 [==============================] - 0s 1ms/step - loss: 0.3556 - accuracy: 0.8524 - val_loss: 0.3690 - val_accuracy: 0.8420\n",
      "Epoch 16/100\n",
      "250/250 [==============================] - 0s 1ms/step - loss: 0.3516 - accuracy: 0.8554 - val_loss: 0.3632 - val_accuracy: 0.8447\n",
      "Epoch 17/100\n",
      "250/250 [==============================] - 0s 1ms/step - loss: 0.3512 - accuracy: 0.8531 - val_loss: 0.3647 - val_accuracy: 0.8487\n",
      "Epoch 18/100\n",
      "250/250 [==============================] - 0s 1ms/step - loss: 0.3492 - accuracy: 0.8544 - val_loss: 0.3604 - val_accuracy: 0.8500\n",
      "Epoch 19/100\n",
      "250/250 [==============================] - 0s 1ms/step - loss: 0.3487 - accuracy: 0.8557 - val_loss: 0.3631 - val_accuracy: 0.8447\n",
      "Epoch 20/100\n",
      "250/250 [==============================] - 0s 1ms/step - loss: 0.3469 - accuracy: 0.8574 - val_loss: 0.3645 - val_accuracy: 0.8487\n",
      "Epoch 21/100\n",
      "250/250 [==============================] - 0s 1ms/step - loss: 0.3470 - accuracy: 0.8540 - val_loss: 0.3577 - val_accuracy: 0.8547\n",
      "Epoch 22/100\n",
      "250/250 [==============================] - 0s 1ms/step - loss: 0.3455 - accuracy: 0.8573 - val_loss: 0.3656 - val_accuracy: 0.8460\n",
      "Epoch 23/100\n",
      "250/250 [==============================] - 0s 1ms/step - loss: 0.3453 - accuracy: 0.8580 - val_loss: 0.3569 - val_accuracy: 0.8533\n",
      "Epoch 24/100\n",
      "250/250 [==============================] - 0s 1ms/step - loss: 0.3452 - accuracy: 0.8564 - val_loss: 0.3653 - val_accuracy: 0.8460\n",
      "Epoch 25/100\n",
      "250/250 [==============================] - 0s 1ms/step - loss: 0.3438 - accuracy: 0.8553 - val_loss: 0.3691 - val_accuracy: 0.8447\n",
      "Epoch 26/100\n",
      "250/250 [==============================] - 0s 1ms/step - loss: 0.3432 - accuracy: 0.8567 - val_loss: 0.3544 - val_accuracy: 0.8573\n",
      "Epoch 27/100\n",
      "250/250 [==============================] - 0s 997us/step - loss: 0.3424 - accuracy: 0.8590 - val_loss: 0.3588 - val_accuracy: 0.8553\n",
      "Epoch 28/100\n",
      "250/250 [==============================] - 0s 1ms/step - loss: 0.3408 - accuracy: 0.8596 - val_loss: 0.3572 - val_accuracy: 0.8560\n",
      "Epoch 29/100\n",
      "250/250 [==============================] - 0s 1ms/step - loss: 0.3411 - accuracy: 0.8601 - val_loss: 0.3552 - val_accuracy: 0.8540\n",
      "Epoch 30/100\n",
      "250/250 [==============================] - 0s 1ms/step - loss: 0.3403 - accuracy: 0.8579 - val_loss: 0.3580 - val_accuracy: 0.8547\n",
      "Epoch 31/100\n",
      "250/250 [==============================] - 0s 1ms/step - loss: 0.3425 - accuracy: 0.8571 - val_loss: 0.3583 - val_accuracy: 0.8540\n",
      "Epoch 32/100\n",
      "250/250 [==============================] - 0s 1ms/step - loss: 0.3395 - accuracy: 0.8596 - val_loss: 0.3626 - val_accuracy: 0.8507\n",
      "Epoch 33/100\n",
      "250/250 [==============================] - 0s 1ms/step - loss: 0.3385 - accuracy: 0.8611 - val_loss: 0.3531 - val_accuracy: 0.8547\n",
      "Epoch 34/100\n",
      "250/250 [==============================] - 0s 1ms/step - loss: 0.3386 - accuracy: 0.8593 - val_loss: 0.3549 - val_accuracy: 0.8513\n",
      "Epoch 35/100\n",
      "250/250 [==============================] - 0s 1ms/step - loss: 0.3386 - accuracy: 0.8587 - val_loss: 0.3582 - val_accuracy: 0.8547\n",
      "Epoch 36/100\n",
      "250/250 [==============================] - 0s 1ms/step - loss: 0.3397 - accuracy: 0.8610 - val_loss: 0.3561 - val_accuracy: 0.8520\n",
      "Epoch 37/100\n",
      "250/250 [==============================] - 0s 997us/step - loss: 0.3374 - accuracy: 0.8580 - val_loss: 0.3573 - val_accuracy: 0.8520\n",
      "Epoch 38/100\n",
      "250/250 [==============================] - 0s 1ms/step - loss: 0.3373 - accuracy: 0.8591 - val_loss: 0.3576 - val_accuracy: 0.8533\n",
      "Epoch 39/100\n",
      "250/250 [==============================] - 0s 1ms/step - loss: 0.3371 - accuracy: 0.8620 - val_loss: 0.3556 - val_accuracy: 0.8567\n",
      "Epoch 40/100\n",
      "250/250 [==============================] - 0s 997us/step - loss: 0.3370 - accuracy: 0.8631 - val_loss: 0.3661 - val_accuracy: 0.8500\n",
      "Epoch 41/100\n",
      "250/250 [==============================] - 0s 1ms/step - loss: 0.3378 - accuracy: 0.8594 - val_loss: 0.3544 - val_accuracy: 0.8587\n",
      "Epoch 42/100\n",
      "250/250 [==============================] - 0s 997us/step - loss: 0.3356 - accuracy: 0.8590 - val_loss: 0.3624 - val_accuracy: 0.8507\n",
      "Epoch 43/100\n",
      "250/250 [==============================] - 0s 997us/step - loss: 0.3356 - accuracy: 0.8620 - val_loss: 0.3554 - val_accuracy: 0.8553\n",
      "Epoch 44/100\n",
      "250/250 [==============================] - 0s 997us/step - loss: 0.3348 - accuracy: 0.8596 - val_loss: 0.3534 - val_accuracy: 0.8553\n",
      "Epoch 45/100\n",
      "250/250 [==============================] - 0s 997us/step - loss: 0.3347 - accuracy: 0.8617 - val_loss: 0.3540 - val_accuracy: 0.8547\n",
      "Epoch 46/100\n",
      "250/250 [==============================] - 0s 1ms/step - loss: 0.3348 - accuracy: 0.8577 - val_loss: 0.3645 - val_accuracy: 0.8487\n",
      "Epoch 47/100\n",
      "250/250 [==============================] - 0s 1ms/step - loss: 0.3357 - accuracy: 0.8623 - val_loss: 0.3555 - val_accuracy: 0.8553\n",
      "Epoch 48/100\n",
      "250/250 [==============================] - 0s 1ms/step - loss: 0.3360 - accuracy: 0.8606 - val_loss: 0.3539 - val_accuracy: 0.8567\n",
      "Epoch 49/100\n",
      "250/250 [==============================] - 0s 1ms/step - loss: 0.3335 - accuracy: 0.8606 - val_loss: 0.3572 - val_accuracy: 0.8540\n",
      "Epoch 50/100\n",
      "250/250 [==============================] - 0s 994us/step - loss: 0.3329 - accuracy: 0.8621 - val_loss: 0.3544 - val_accuracy: 0.8553\n",
      "Epoch 51/100\n",
      "250/250 [==============================] - 0s 997us/step - loss: 0.3327 - accuracy: 0.8627 - val_loss: 0.3558 - val_accuracy: 0.8567\n",
      "Epoch 52/100\n",
      "250/250 [==============================] - 0s 993us/step - loss: 0.3315 - accuracy: 0.8610 - val_loss: 0.3523 - val_accuracy: 0.8600\n",
      "Epoch 53/100\n",
      "250/250 [==============================] - 0s 1ms/step - loss: 0.3327 - accuracy: 0.8604 - val_loss: 0.3519 - val_accuracy: 0.8593\n",
      "Epoch 54/100\n",
      "250/250 [==============================] - 0s 997us/step - loss: 0.3325 - accuracy: 0.8634 - val_loss: 0.3589 - val_accuracy: 0.8493\n",
      "Epoch 55/100\n",
      "250/250 [==============================] - 0s 993us/step - loss: 0.3318 - accuracy: 0.8637 - val_loss: 0.3570 - val_accuracy: 0.8553\n",
      "Epoch 56/100\n",
      "250/250 [==============================] - 0s 1000us/step - loss: 0.3318 - accuracy: 0.8609 - val_loss: 0.3541 - val_accuracy: 0.8553\n",
      "Epoch 57/100\n",
      "250/250 [==============================] - 0s 1ms/step - loss: 0.3308 - accuracy: 0.8609 - val_loss: 0.3503 - val_accuracy: 0.8560\n"
     ]
    },
    {
     "name": "stdout",
     "output_type": "stream",
     "text": [
      "Epoch 58/100\n",
      "250/250 [==============================] - 0s 985us/step - loss: 0.3319 - accuracy: 0.8603 - val_loss: 0.3558 - val_accuracy: 0.8540\n",
      "Epoch 59/100\n",
      "250/250 [==============================] - 0s 1ms/step - loss: 0.3292 - accuracy: 0.8630 - val_loss: 0.3626 - val_accuracy: 0.8487\n",
      "Epoch 60/100\n",
      "250/250 [==============================] - 0s 985us/step - loss: 0.3317 - accuracy: 0.8631 - val_loss: 0.3528 - val_accuracy: 0.8560\n",
      "Epoch 61/100\n",
      "250/250 [==============================] - 0s 997us/step - loss: 0.3300 - accuracy: 0.8640 - val_loss: 0.3521 - val_accuracy: 0.8580\n",
      "Epoch 62/100\n",
      "250/250 [==============================] - 0s 989us/step - loss: 0.3287 - accuracy: 0.8641 - val_loss: 0.3605 - val_accuracy: 0.8527\n",
      "Epoch 63/100\n",
      "250/250 [==============================] - 0s 991us/step - loss: 0.3301 - accuracy: 0.8611 - val_loss: 0.3550 - val_accuracy: 0.8567\n",
      "Epoch 64/100\n",
      "250/250 [==============================] - 0s 989us/step - loss: 0.3291 - accuracy: 0.8643 - val_loss: 0.3565 - val_accuracy: 0.8540\n",
      "Epoch 65/100\n",
      "250/250 [==============================] - 0s 981us/step - loss: 0.3289 - accuracy: 0.8627 - val_loss: 0.3587 - val_accuracy: 0.8533\n",
      "Epoch 66/100\n",
      "250/250 [==============================] - 0s 989us/step - loss: 0.3291 - accuracy: 0.8630 - val_loss: 0.3550 - val_accuracy: 0.8560\n",
      "Epoch 67/100\n",
      "250/250 [==============================] - 0s 989us/step - loss: 0.3300 - accuracy: 0.8619 - val_loss: 0.3581 - val_accuracy: 0.8527\n",
      "Epoch 68/100\n",
      "250/250 [==============================] - 0s 993us/step - loss: 0.3290 - accuracy: 0.8641 - val_loss: 0.3563 - val_accuracy: 0.8553\n",
      "Epoch 69/100\n",
      "250/250 [==============================] - 0s 1ms/step - loss: 0.3294 - accuracy: 0.8621 - val_loss: 0.3531 - val_accuracy: 0.8593\n",
      "Epoch 70/100\n",
      "250/250 [==============================] - 0s 993us/step - loss: 0.3294 - accuracy: 0.8611 - val_loss: 0.3511 - val_accuracy: 0.8600\n",
      "Epoch 71/100\n",
      "250/250 [==============================] - 0s 992us/step - loss: 0.3292 - accuracy: 0.8620 - val_loss: 0.3596 - val_accuracy: 0.8540\n",
      "Epoch 72/100\n",
      "250/250 [==============================] - 0s 989us/step - loss: 0.3283 - accuracy: 0.8607 - val_loss: 0.3643 - val_accuracy: 0.8533\n",
      "Epoch 73/100\n",
      "250/250 [==============================] - 0s 989us/step - loss: 0.3267 - accuracy: 0.8661 - val_loss: 0.3559 - val_accuracy: 0.8567\n",
      "Epoch 74/100\n",
      "250/250 [==============================] - 0s 1ms/step - loss: 0.3282 - accuracy: 0.8633 - val_loss: 0.3529 - val_accuracy: 0.8567\n",
      "Epoch 75/100\n",
      "250/250 [==============================] - 0s 997us/step - loss: 0.3275 - accuracy: 0.8660 - val_loss: 0.3546 - val_accuracy: 0.8560\n",
      "Epoch 76/100\n",
      "250/250 [==============================] - 0s 987us/step - loss: 0.3279 - accuracy: 0.8636 - val_loss: 0.3532 - val_accuracy: 0.8593\n",
      "Epoch 77/100\n",
      "250/250 [==============================] - 0s 989us/step - loss: 0.3273 - accuracy: 0.8639 - val_loss: 0.3537 - val_accuracy: 0.8593\n",
      "Epoch 78/100\n",
      "250/250 [==============================] - 0s 993us/step - loss: 0.3278 - accuracy: 0.8643 - val_loss: 0.3553 - val_accuracy: 0.8613\n",
      "Epoch 79/100\n",
      "250/250 [==============================] - 0s 1ms/step - loss: 0.3274 - accuracy: 0.8640 - val_loss: 0.3538 - val_accuracy: 0.8547\n",
      "Epoch 80/100\n",
      "250/250 [==============================] - 0s 989us/step - loss: 0.3276 - accuracy: 0.8616 - val_loss: 0.3498 - val_accuracy: 0.8613\n",
      "Epoch 81/100\n",
      "250/250 [==============================] - 0s 989us/step - loss: 0.3255 - accuracy: 0.8637 - val_loss: 0.3534 - val_accuracy: 0.8553\n",
      "Epoch 82/100\n",
      "250/250 [==============================] - 0s 997us/step - loss: 0.3275 - accuracy: 0.8641 - val_loss: 0.3538 - val_accuracy: 0.8567\n",
      "Epoch 83/100\n",
      "250/250 [==============================] - 0s 1ms/step - loss: 0.3269 - accuracy: 0.8607 - val_loss: 0.3552 - val_accuracy: 0.8567\n",
      "Epoch 84/100\n",
      "250/250 [==============================] - 0s 1ms/step - loss: 0.3254 - accuracy: 0.8643 - val_loss: 0.3515 - val_accuracy: 0.8600\n",
      "Epoch 85/100\n",
      "250/250 [==============================] - 0s 1000us/step - loss: 0.3247 - accuracy: 0.8631 - val_loss: 0.3540 - val_accuracy: 0.8560\n",
      "Epoch 86/100\n",
      "250/250 [==============================] - 0s 1ms/step - loss: 0.3262 - accuracy: 0.8637 - val_loss: 0.3543 - val_accuracy: 0.8580\n",
      "Epoch 87/100\n",
      "250/250 [==============================] - 0s 1ms/step - loss: 0.3266 - accuracy: 0.8630 - val_loss: 0.3560 - val_accuracy: 0.8593\n",
      "Epoch 88/100\n",
      "250/250 [==============================] - 0s 1ms/step - loss: 0.3248 - accuracy: 0.8623 - val_loss: 0.3539 - val_accuracy: 0.8540\n",
      "Epoch 89/100\n",
      "250/250 [==============================] - 0s 1ms/step - loss: 0.3248 - accuracy: 0.8654 - val_loss: 0.3559 - val_accuracy: 0.8593\n",
      "Epoch 90/100\n",
      "250/250 [==============================] - 0s 1ms/step - loss: 0.3252 - accuracy: 0.8626 - val_loss: 0.3552 - val_accuracy: 0.8567\n",
      "Epoch 91/100\n",
      "250/250 [==============================] - 0s 1ms/step - loss: 0.3261 - accuracy: 0.8637 - val_loss: 0.3544 - val_accuracy: 0.8547\n",
      "Epoch 92/100\n",
      "250/250 [==============================] - 0s 993us/step - loss: 0.3249 - accuracy: 0.8636 - val_loss: 0.3558 - val_accuracy: 0.8600\n",
      "Epoch 93/100\n",
      "250/250 [==============================] - 0s 985us/step - loss: 0.3245 - accuracy: 0.8657 - val_loss: 0.3561 - val_accuracy: 0.8627\n",
      "Epoch 94/100\n",
      "250/250 [==============================] - 0s 1ms/step - loss: 0.3233 - accuracy: 0.8656 - val_loss: 0.3552 - val_accuracy: 0.8580\n",
      "Epoch 95/100\n",
      "250/250 [==============================] - 0s 1ms/step - loss: 0.3239 - accuracy: 0.8640 - val_loss: 0.3537 - val_accuracy: 0.8587\n",
      "Epoch 96/100\n",
      "250/250 [==============================] - 0s 1ms/step - loss: 0.3238 - accuracy: 0.8660 - val_loss: 0.3528 - val_accuracy: 0.8593\n",
      "Epoch 97/100\n",
      "250/250 [==============================] - 0s 1ms/step - loss: 0.3230 - accuracy: 0.8657 - val_loss: 0.3532 - val_accuracy: 0.8600\n",
      "Epoch 98/100\n",
      "250/250 [==============================] - 0s 1ms/step - loss: 0.3231 - accuracy: 0.8657 - val_loss: 0.3566 - val_accuracy: 0.8567\n",
      "Epoch 99/100\n",
      "250/250 [==============================] - 0s 1ms/step - loss: 0.3233 - accuracy: 0.8641 - val_loss: 0.3533 - val_accuracy: 0.8593\n",
      "Epoch 100/100\n",
      "250/250 [==============================] - 0s 1ms/step - loss: 0.3225 - accuracy: 0.8657 - val_loss: 0.3597 - val_accuracy: 0.8587\n"
     ]
    }
   ],
   "source": [
    "training_history = model.fit(X_train, y_train, epochs=100, batch_size=28, validation_data=(X_val, y_val))"
   ]
  },
  {
   "cell_type": "markdown",
   "id": "e9dd9333",
   "metadata": {},
   "source": [
    "### Evaluating the model on the test set"
   ]
  },
  {
   "cell_type": "code",
   "execution_count": 2132,
   "id": "0bb46fa8",
   "metadata": {},
   "outputs": [
    {
     "name": "stdout",
     "output_type": "stream",
     "text": [
      "47/47 [==============================] - 0s 694us/step - loss: 0.3385 - accuracy: 0.8600\n"
     ]
    },
    {
     "data": {
      "text/plain": [
       "[0.3385211229324341, 0.8600000143051147]"
      ]
     },
     "execution_count": 2132,
     "metadata": {},
     "output_type": "execute_result"
    }
   ],
   "source": [
    "model.evaluate(X_test, y_test)"
   ]
  },
  {
   "cell_type": "markdown",
   "id": "79fcee71",
   "metadata": {},
   "source": [
    "### Predicting the labels on the test set and rounding predictions up to 0 or 1 (not exited or exited)"
   ]
  },
  {
   "cell_type": "code",
   "execution_count": 2133,
   "id": "ab6ac069",
   "metadata": {},
   "outputs": [
    {
     "data": {
      "text/plain": [
       "array([[0.15021282],\n",
       "       [0.01390487],\n",
       "       [0.17222786],\n",
       "       [0.25309503],\n",
       "       [0.7663888 ],\n",
       "       [0.12387848],\n",
       "       [0.00726038],\n",
       "       [0.10908166],\n",
       "       [0.04376996],\n",
       "       [0.03316301]], dtype=float32)"
      ]
     },
     "execution_count": 2133,
     "metadata": {},
     "output_type": "execute_result"
    }
   ],
   "source": [
    "yhat = model.predict(X_test)\n",
    "\n",
    "yhat[:10]"
   ]
  },
  {
   "cell_type": "code",
   "execution_count": 2134,
   "id": "6031cf1a",
   "metadata": {},
   "outputs": [
    {
     "data": {
      "text/plain": [
       "[0, 0, 0, 0, 1, 0, 0, 0, 0, 0]"
      ]
     },
     "execution_count": 2134,
     "metadata": {},
     "output_type": "execute_result"
    }
   ],
   "source": [
    "ypred = []\n",
    "for element in yhat:\n",
    "    if(element > 0.5):\n",
    "        ypred.append(1)\n",
    "    else:\n",
    "        ypred.append(0)\n",
    "        \n",
    "\n",
    "ypred[:10]"
   ]
  },
  {
   "cell_type": "code",
   "execution_count": 2135,
   "id": "731a13f2",
   "metadata": {},
   "outputs": [
    {
     "data": {
      "text/plain": [
       "array([1, 0, 0, 0, 1, 0, 0, 0, 0, 0], dtype=int64)"
      ]
     },
     "execution_count": 2135,
     "metadata": {},
     "output_type": "execute_result"
    }
   ],
   "source": [
    "y_test[:10]"
   ]
  },
  {
   "cell_type": "markdown",
   "id": "e78b2d76",
   "metadata": {},
   "source": [
    "### Accuracy Score and Classification Report"
   ]
  },
  {
   "cell_type": "code",
   "execution_count": 2136,
   "id": "da4a6f03",
   "metadata": {},
   "outputs": [
    {
     "name": "stdout",
     "output_type": "stream",
     "text": [
      "0.86\n",
      "              precision    recall  f1-score   support\n",
      "\n",
      "           0       0.90      0.93      0.92      1222\n",
      "           1       0.64      0.56      0.60       278\n",
      "\n",
      "    accuracy                           0.86      1500\n",
      "   macro avg       0.77      0.74      0.76      1500\n",
      "weighted avg       0.85      0.86      0.86      1500\n",
      "\n"
     ]
    }
   ],
   "source": [
    "from sklearn.metrics import confusion_matrix, classification_report, accuracy_score\n",
    "\n",
    "print(accuracy_score(y_test,ypred))\n",
    "print(classification_report(y_test, ypred))"
   ]
  },
  {
   "cell_type": "markdown",
   "id": "5451ad7e",
   "metadata": {},
   "source": [
    "### Confussion Matrix"
   ]
  },
  {
   "cell_type": "code",
   "execution_count": 2137,
   "id": "658a5761",
   "metadata": {},
   "outputs": [
    {
     "data": {
      "image/png": "[encoded data removed]",
      "text/plain": [
       "<Figure size 720x504 with 2 Axes>"
      ]
     },
     "metadata": {
      "needs_background": "light"
     },
     "output_type": "display_data"
    }
   ],
   "source": [
    "from matplotlib import pyplot as plt\n",
    "%matplotlib inline\n",
    "\n",
    "cm = confusion_matrix(y_test, ypred)\n",
    "\n",
    "plt.figure(figsize=(10,7))\n",
    "plt.imshow(cm, cmap='Blues')\n",
    "plt.title('Confusion Matrix for Churn Prediction')\n",
    "plt.xlabel('Predicted')\n",
    "plt.ylabel('Truth')\n",
    "plt.xticks(np.arange(2))\n",
    "plt.yticks(np.arange(2))\n",
    "plt.colorbar()\n",
    "\n",
    "width, height = cm.shape\n",
    "for x in range(width):\n",
    "    for y in range(height):\n",
    "        plt.annotate(str(cm[x][y]), xy=(y,x), horizontalalignment='center', verticalalignment='center')"
   ]
  },
  {
   "cell_type": "markdown",
   "id": "273f9dde",
   "metadata": {},
   "source": [
    "### Visualizing Loss and Accuracy"
   ]
  },
  {
   "cell_type": "code",
   "execution_count": 2138,
   "id": "0dc24620",
   "metadata": {},
   "outputs": [
    {
     "data": {
      "image/png": "[encoded data removed]",
      "text/plain": [
       "<Figure size 432x288 with 1 Axes>"
      ]
     },
     "metadata": {
      "needs_background": "light"
     },
     "output_type": "display_data"
    }
   ],
   "source": [
    "plt.plot(training_history.history['loss'])\n",
    "plt.plot(training_history.history['val_loss'])\n",
    "plt.title('Model loss')\n",
    "plt.ylabel('Loss')\n",
    "plt.xlabel('Epoch')\n",
    "plt.legend(['Train', 'Val'], loc='upper right')\n",
    "plt.show()"
   ]
  },
  {
   "cell_type": "code",
   "execution_count": 2139,
   "id": "e786e697",
   "metadata": {},
   "outputs": [
    {
     "data": {
      "image/png": "[encoded data removed]",
      "text/plain": [
       "<Figure size 432x288 with 1 Axes>"
      ]
     },
     "metadata": {
      "needs_background": "light"
     },
     "output_type": "display_data"
    }
   ],
   "source": [
    "plt.plot(training_history.history['accuracy'])\n",
    "plt.plot(training_history.history['val_accuracy'])\n",
    "plt.title('Model accuracy')\n",
    "plt.ylabel('Accuracy')\n",
    "plt.xlabel('Epoch')\n",
    "plt.legend(['Train', 'Val'], loc='lower right')\n",
    "plt.show()"
   ]
  }
 ],
 "metadata": {
  "kernelspec": {
   "display_name": "Python 3 (ipykernel)",
   "language": "python",
   "name": "python3"
  },
  "language_info": {
   "codemirror_mode": {
    "name": "ipython",
    "version": 3
   },
   "file_extension": ".py",
   "mimetype": "text/x-python",
   "name": "python",
   "nbconvert_exporter": "python",
   "pygments_lexer": "ipython3",
   "version": "3.9.12"
  }
 },
 "nbformat": 4,
 "nbformat_minor": 5
}
